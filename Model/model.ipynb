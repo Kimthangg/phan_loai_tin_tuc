{
 "cells": [
  {
   "cell_type": "markdown",
   "metadata": {},
   "source": [
    "# Đọc và quan sát tập dữ liệu"
   ]
  },
  {
   "cell_type": "code",
   "execution_count": 1,
   "metadata": {},
   "outputs": [],
   "source": [
    "#Khai báo thư viện\n",
    "import pandas as pd\n",
    "import numpy as np\n",
    "import matplotlib.pyplot as plt"
   ]
  },
  {
   "cell_type": "code",
   "execution_count": 2,
   "metadata": {},
   "outputs": [],
   "source": [
    "#Đọc dữ liệu từ file\n",
    "data = pd.read_csv('../Crawl/Data.csv')"
   ]
  },
  {
   "cell_type": "code",
   "execution_count": 3,
   "metadata": {},
   "outputs": [
    {
     "name": "stdout",
     "output_type": "stream",
     "text": [
      "<class 'pandas.core.frame.DataFrame'>\n",
      "RangeIndex: 12863 entries, 0 to 12862\n",
      "Data columns (total 2 columns):\n",
      " #   Column    Non-Null Count  Dtype \n",
      "---  ------    --------------  ----- \n",
      " 0   Danh mục  12863 non-null  object\n",
      " 1   Nội dung  12844 non-null  object\n",
      "dtypes: object(2)\n",
      "memory usage: 201.1+ KB\n"
     ]
    }
   ],
   "source": [
    "data.info()"
   ]
  },
  {
   "cell_type": "code",
   "execution_count": 4,
   "metadata": {},
   "outputs": [
    {
     "data": {
      "text/html": [
       "<div>\n",
       "<style scoped>\n",
       "    .dataframe tbody tr th:only-of-type {\n",
       "        vertical-align: middle;\n",
       "    }\n",
       "\n",
       "    .dataframe tbody tr th {\n",
       "        vertical-align: top;\n",
       "    }\n",
       "\n",
       "    .dataframe thead th {\n",
       "        text-align: right;\n",
       "    }\n",
       "</style>\n",
       "<table border=\"1\" class=\"dataframe\">\n",
       "  <thead>\n",
       "    <tr style=\"text-align: right;\">\n",
       "      <th></th>\n",
       "      <th>Danh mục</th>\n",
       "      <th>Nội dung</th>\n",
       "    </tr>\n",
       "  </thead>\n",
       "  <tbody>\n",
       "    <tr>\n",
       "      <th>1983</th>\n",
       "      <td>Giáo dục</td>\n",
       "      <td>Mặt bằng điểm chuẩn năm nay giảm không nằm ngo...</td>\n",
       "    </tr>\n",
       "    <tr>\n",
       "      <th>1210</th>\n",
       "      <td>Công nghệ</td>\n",
       "      <td>Theo TechSpot, Google vừa phát hành thêm phiên...</td>\n",
       "    </tr>\n",
       "    <tr>\n",
       "      <th>4356</th>\n",
       "      <td>Công nghệ</td>\n",
       "      <td>Samsung được cho là đang phát triển ứng dụng t...</td>\n",
       "    </tr>\n",
       "    <tr>\n",
       "      <th>4941</th>\n",
       "      <td>Xe</td>\n",
       "      <td>Khi chuyển từ nhập khẩu nguyên chiếc sang lắp ...</td>\n",
       "    </tr>\n",
       "    <tr>\n",
       "      <th>1563</th>\n",
       "      <td>Sức khỏe</td>\n",
       "      <td>Đột quỵ xảy ra khi dòng máu đến não bị ngừng l...</td>\n",
       "    </tr>\n",
       "    <tr>\n",
       "      <th>5456</th>\n",
       "      <td>Sức khỏe</td>\n",
       "      <td>Sau đây là những lợi ích nổi bật của lá đu đủ....</td>\n",
       "    </tr>\n",
       "    <tr>\n",
       "      <th>5103</th>\n",
       "      <td>Thế giới</td>\n",
       "      <td>Trong cuộc họp hội đồng giáo dục học khu TP.Tu...</td>\n",
       "    </tr>\n",
       "    <tr>\n",
       "      <th>1986</th>\n",
       "      <td>Văn hóa</td>\n",
       "      <td>Chỉ thị lịch sử\\nCụ thể, sau ngày Nhật đảo chí...</td>\n",
       "    </tr>\n",
       "    <tr>\n",
       "      <th>6936</th>\n",
       "      <td>Văn hóa</td>\n",
       "      <td>Đó cũng chính là nơi đáng sống và là mong ước ...</td>\n",
       "    </tr>\n",
       "    <tr>\n",
       "      <th>11788</th>\n",
       "      <td>Kinh tế</td>\n",
       "      <td>Ngày 16.5, tại H.An Biên (Kiên Giang), Bộ NN-P...</td>\n",
       "    </tr>\n",
       "  </tbody>\n",
       "</table>\n",
       "</div>"
      ],
      "text/plain": [
       "        Danh mục                                           Nội dung\n",
       "1983    Giáo dục  Mặt bằng điểm chuẩn năm nay giảm không nằm ngo...\n",
       "1210   Công nghệ  Theo TechSpot, Google vừa phát hành thêm phiên...\n",
       "4356   Công nghệ  Samsung được cho là đang phát triển ứng dụng t...\n",
       "4941          Xe  Khi chuyển từ nhập khẩu nguyên chiếc sang lắp ...\n",
       "1563    Sức khỏe  Đột quỵ xảy ra khi dòng máu đến não bị ngừng l...\n",
       "5456    Sức khỏe  Sau đây là những lợi ích nổi bật của lá đu đủ....\n",
       "5103    Thế giới  Trong cuộc họp hội đồng giáo dục học khu TP.Tu...\n",
       "1986     Văn hóa  Chỉ thị lịch sử\\nCụ thể, sau ngày Nhật đảo chí...\n",
       "6936     Văn hóa  Đó cũng chính là nơi đáng sống và là mong ước ...\n",
       "11788    Kinh tế  Ngày 16.5, tại H.An Biên (Kiên Giang), Bộ NN-P..."
      ]
     },
     "execution_count": 4,
     "metadata": {},
     "output_type": "execute_result"
    }
   ],
   "source": [
    "#Hiển thị 10 dòng dữ liệu ngẫu nhiên\n",
    "data.sample(10)"
   ]
  },
  {
   "cell_type": "code",
   "execution_count": 5,
   "metadata": {},
   "outputs": [
    {
     "name": "stdout",
     "output_type": "stream",
     "text": [
      "Kiểm tra dữ liệu null trong tập dữ liệu:\n",
      "Danh mục     0\n",
      "Nội dung    19\n",
      "dtype: int64\n"
     ]
    }
   ],
   "source": [
    "#Kiểm tra dữ liệu null trong tập dữ liệu\n",
    "print('Kiểm tra dữ liệu null trong tập dữ liệu:')\n",
    "print(data.isnull().sum())"
   ]
  },
  {
   "cell_type": "code",
   "execution_count": 6,
   "metadata": {},
   "outputs": [
    {
     "data": {
      "text/plain": [
       "Danh mục    0\n",
       "Nội dung    0\n",
       "dtype: int64"
      ]
     },
     "execution_count": 6,
     "metadata": {},
     "output_type": "execute_result"
    }
   ],
   "source": [
    "#Xử lý dữ liệu null bằng cách xoá\n",
    "data = data.dropna()\n",
    "#Kiểm tra dữ liệu null sau khi xử lý\n",
    "data.isnull().sum()"
   ]
  },
  {
   "cell_type": "code",
   "execution_count": 7,
   "metadata": {},
   "outputs": [
    {
     "name": "stdout",
     "output_type": "stream",
     "text": [
      "Thống kê dữ liệu:\n",
      "Danh mục    12844\n",
      "Nội dung    12844\n",
      "dtype: int64\n",
      "--------------------------------------------------\n",
      "Thống kê số lượng nội dung theo từng lớp:\n",
      "Danh mục\n",
      "Thời sự      1002\n",
      "Đời sống     1001\n",
      "Thể thao     1001\n",
      "Thế giới     1000\n",
      "Sức khỏe     1000\n",
      "Giới trẻ     1000\n",
      "Giáo dục     1000\n",
      "Văn hóa      1000\n",
      "Công nghệ     999\n",
      "Du lịch       994\n",
      "Xe            982\n",
      "Kinh tế       934\n",
      "Giải trí      931\n",
      "Name: count, dtype: int64\n"
     ]
    }
   ],
   "source": [
    "#Quan sát dữ liệu\n",
    "print('Thống kê dữ liệu:')\n",
    "print(data.count())\n",
    "print('-'*50)\n",
    "print('Thống kê số lượng nội dung theo từng lớp:')\n",
    "print(data['Danh mục'].value_counts())"
   ]
  },
  {
   "cell_type": "code",
   "execution_count": 25,
   "metadata": {},
   "outputs": [
    {
     "data": {
      "image/png": "[encoded data removed]",
      "text/plain": [
       "<Figure size 1500x1000 with 2 Axes>"
      ]
     },
     "metadata": {},
     "output_type": "display_data"
    }
   ],
   "source": [
    "#Trực quan hoá dữ liệu đầu vào\n",
    "tong_danhmuc = data['Danh mục'].value_counts()\n",
    "plt.figure(figsize=(15, 10))\n",
    "plt.suptitle('Số lượng nội dung theo từng danh mục')\n",
    "# Tạo biểu đồ cột\n",
    "plt.subplot(1,2,1)\n",
    "plt.barh(tong_danhmuc.index, \n",
    "         tong_danhmuc.values, \n",
    "         color='skyblue')\n",
    "# Tạo biểu đồ tròn\n",
    "plt.subplot(1,2,2)\n",
    "plt.pie(tong_danhmuc,\n",
    "        labels = tong_danhmuc.index,\n",
    "        autopct = '%.2f%%')\n",
    "plt.show()"
   ]
  },
  {
   "cell_type": "markdown",
   "metadata": {},
   "source": [
    "# Tiền xử lý"
   ]
  },
  {
   "cell_type": "markdown",
   "metadata": {},
   "source": [
    "## a) Làm sạch dữ liệu"
   ]
  },
  {
   "cell_type": "code",
   "execution_count": 26,
   "metadata": {},
   "outputs": [],
   "source": [
    "import re\n",
    "#Hàm xử làmn sạch dữ liệu\n",
    "def clean_noise(st):\n",
    "    # Chuyển về chữ thường\n",
    "    text = st.lower()\n",
    "    # Loại bỏ các email\n",
    "    text = re.sub(r'\\b\\w+@\\w+\\.\\w+\\b', '', text)\n",
    "    # Loại bỏ các link\n",
    "    text = re.sub(r'http\\S+|www\\.\\S+', '', text)\n",
    "    # Xóa các ký tự đặc biệt\n",
    "    text = re.sub(r'[^\\w\\s]', '', text)\n",
    "    # Xóa các chữ số\n",
    "    text = re.sub(r'\\d+', '', text)\n",
    "    # Loại bỏ các ký tự xuống dòng (newlines)\n",
    "    text = re.sub(r'\\n|\\r', ' ', text)  \n",
    "    return text"
   ]
  },
  {
   "cell_type": "markdown",
   "metadata": {},
   "source": [
    "## b) Tách từ và Loại bỏ stopword"
   ]
  },
  {
   "cell_type": "code",
   "execution_count": 27,
   "metadata": {},
   "outputs": [],
   "source": [
    "#Dùng thư viện underthesea để tách từ\n",
    "import underthesea \n",
    "#Hàm tách từ\n",
    "def tokenize(text):\n",
    "    tokens = underthesea.word_tokenize(text)\n",
    "    return tokens"
   ]
  },
  {
   "cell_type": "code",
   "execution_count": 28,
   "metadata": {},
   "outputs": [],
   "source": [
    "#Đọc file stopwords\n",
    "with open('vietnamese-stopwords.txt', \"r\", encoding=\"utf-8\") as file:\n",
    "    lines = file.readlines()\n",
    "\n",
    "stopwords = []\n",
    "#Duyệt từng dòng trong file\n",
    "for line in lines:\n",
    "    word = line.strip()  # Loại bỏ khoảng trắng đầu/cuối\n",
    "    stopwords.append(word)\n",
    "\n",
    "#Hàm loại bỏ stopword\n",
    "def remove_stopword(tokens):\n",
    "    final_tokens = [token for token in tokens if token not in stopwords]\n",
    "    return final_tokens"
   ]
  },
  {
   "cell_type": "markdown",
   "metadata": {},
   "source": [
    "## c) Tiền xử lý với các hàm đã xây dựng"
   ]
  },
  {
   "cell_type": "code",
   "execution_count": 29,
   "metadata": {},
   "outputs": [],
   "source": [
    "#Gộp các hàm xử lý dữ liệu\n",
    "def preprocess(text):\n",
    "    text = clean_noise(text) #Loại bỏ noise\n",
    "    tokens = tokenize(text) #Tách từ\n",
    "    final_tokens = remove_stopword(tokens) #Loại bỏ stopword\n",
    "    # Kết hợp các từ còn lại thành một chuỗi\n",
    "    final_text = ' '.join(final_tokens)\n",
    "    return final_text"
   ]
  },
  {
   "cell_type": "code",
   "execution_count": 30,
   "metadata": {},
   "outputs": [],
   "source": [
    "#Lấy dòng đầu tiên trong dữ liệu\n",
    "test_text = data['Nội dung'].iloc[0]"
   ]
  },
  {
   "cell_type": "code",
   "execution_count": 31,
   "metadata": {},
   "outputs": [
    {
     "name": "stdout",
     "output_type": "stream",
     "text": [
      "raw text:  Ngày 1.9, tin từ Công an tỉnh Hậu Giang cho biết, Cơ quan CSĐT Công an H.Châu Thành A vừa khởi tố vụ án, khởi tố bị can, ra lệnh bắt tạm giam đối với Đ.T.D (29 tuổi), L.V.V.L (22 tuổi), N.T.V (19 tuổi) và lệnh cấm đi khỏi nơi cư trú đối với N.T.P (16 tuổi, cùng ở H.Châu Thành A), để điều tra về tội cố ý gây thương tích. Đây là 4 nghi phạm trong vụ án mang hung khí chém người gây thương tích 44%.Nhóm 4 thanh thiếu niên cùng tang vật gây ánẢNH: THANH DUYTheo điều tra ban đầu, khoảng 19 giờ 10 ngày 23.8, Công an TT.Rạch Gòi (H.Châu Thành A) nhận được tin báo của người dân có 4 thanh niên đi trên xe mô tô, mang theo hung khí rượt đuổi, chém 2 người gây thương tích trên quốc lộ 61 (đoạn thuộc ấp Thị Tứ, TT.Rạch Gòi), rồi lên xe tẩu thoát khỏi hiện trường.Ngay sau đó, Cơ quan CSĐT Công an H.Châu Thành A phối hợp với Công an TT.Rạch Gòi và các đơn vị liên quan, khẩn trương triển khai các biện pháp nghiệp vụ, xác minh, truy bắt nóng các nghi phạm. Sau gần 2 ngày, lực lượng công an đã bắt giữ 4 nghi phạm khi tất cả lẩn trốn trên địa bàn TT.Cái Tắc và đang tìm cách trốn khỏi địa phương.Tại cơ quan công an, Đ.T.D khai nhận do có mâu thuẫn từ trước với một nhóm thanh niên trên địa bàn nên đã rủ L.V.V.L, N.T.V và N.T.P mang theo hung khí để tìm giải quyết mâu thuẫn. Trên đường đi, nhóm gặp 2 nam thanh niên là P.N.A.Q (20 tuổi, ngụ xã Đông Thạnh, H.Châu Thành, Hậu Giang) và T.B.B (23 tuổi, ngụ xã Bình Thành, H.Phụng Hiệp, Hậu Giang) đang chở nhau bằng xe máy trên đường. Cho rằng 2 người trên thuộc nhóm có mâu thuẫn với mình trước đó,  Đ.T.D đã cùng đồng bọn rượt đuổi theo, chém P.N.A.Q và T.B.B khiến 2 nạn nhân bị thương tích nặng. Vụ việc chém người gây thương tích trên đang được Cơ quan CSĐT Công an H.Châu Thành A, tỉnh Hậu Giang tiếp tục điều tra, làm rõ.\n",
      "--------------------------------------------------\n",
      "new text:  công an tỉnh hậu giang cơ quan csđt công an hchâu thành a khởi tố vụ án khởi tố bị can ra lệnh bắt tạm giam đtd lvvl ntv tuổi lệnh cấm đi cư trú ntp hchâu thành a điều tra tội cố ý thương tích nghi phạm vụ án hung khí chém thương tích thanh thiếu niên tang vật ánảnh thanh duytheo điều tra ban đầu công an ttrạch gòi hchâu thành a báo người dân thanh niên đi xe mô tô hung khí rượt đuổi chém thương tích quốc lộ đoạn ấp thị tứ ttrạch gòi xe tẩu thoát hiện trườngngay cơ quan csđt công an hchâu thành a phối hợp công an ttrạch gòi khẩn trương triển khai biện pháp nghiệp vụ xác minh truy bắt nóng nghi phạm lực lượng công an bắt giữ nghi phạm lẩn trốn địa bàn ttcái tắc trốn địa phươngtại cơ quan công an đtd khai mâu thuẫn thanh niên địa bàn rủ lvvl ntv ntp hung khí giải quyết mâu thuẫn đường đi nam thanh niên pnaq ngụ xã đông thạnh hchâu thành hậu giang tbb ngụ xã bình thành hphụng hiệp hậu giang chở xe máy đường mâu thuẫn đtd đồng bọn rượt đuổi chém pnaq tbb nạn nhân bị thương tích vụ việc chém thương tích cơ quan csđt công an hchâu thành a tỉnh hậu giang điều tra\n"
     ]
    }
   ],
   "source": [
    "#Thử tiền xử lý dòng đầu\n",
    "print('raw text: ',test_text)\n",
    "print('-'*50)\n",
    "print('new text: ',preprocess(test_text))"
   ]
  },
  {
   "cell_type": "code",
   "execution_count": 32,
   "metadata": {},
   "outputs": [],
   "source": [
    "#Xử lý toàn bộ dữ liệu\n",
    "content = data['Nội dung'].apply(preprocess)"
   ]
  },
  {
   "cell_type": "code",
   "execution_count": 33,
   "metadata": {},
   "outputs": [],
   "source": [
    "#Tạo nhãn tương ứng \n",
    "label=data['Danh mục']"
   ]
  },
  {
   "cell_type": "markdown",
   "metadata": {},
   "source": [
    "## d) Lưu dữ liệu đã xử lý\n",
    "---\n",
    "\n",
    "Sau khi tiền xử lý dữ liệu, một số nội dung bị xoá toàn bộ các noise và trở thành các nội dung rỗng. Thực hiện loại bỏ các nội dung này khỏi tập dữ liệu"
   ]
  },
  {
   "cell_type": "code",
   "execution_count": 37,
   "metadata": {},
   "outputs": [],
   "source": [
    "#Kiểm tra lại dữ liệu có null không\n",
    "content.isnull().sum()\n",
    "#Tiến hành loại bỏ dữ liệu null\n",
    "content = content.dropna()"
   ]
  },
  {
   "cell_type": "code",
   "execution_count": 150,
   "metadata": {},
   "outputs": [
    {
     "data": {
      "text/html": [
       "<div>\n",
       "<style scoped>\n",
       "    .dataframe tbody tr th:only-of-type {\n",
       "        vertical-align: middle;\n",
       "    }\n",
       "\n",
       "    .dataframe tbody tr th {\n",
       "        vertical-align: top;\n",
       "    }\n",
       "\n",
       "    .dataframe thead th {\n",
       "        text-align: right;\n",
       "    }\n",
       "</style>\n",
       "<table border=\"1\" class=\"dataframe\">\n",
       "  <thead>\n",
       "    <tr style=\"text-align: right;\">\n",
       "      <th></th>\n",
       "      <th>content</th>\n",
       "      <th>label</th>\n",
       "    </tr>\n",
       "  </thead>\n",
       "  <tbody>\n",
       "    <tr>\n",
       "      <th>8852</th>\n",
       "      <td>cơ phó anju khatiwada chụp màn hình the nation...</td>\n",
       "      <td>Thế giới</td>\n",
       "    </tr>\n",
       "    <tr>\n",
       "      <th>882</th>\n",
       "      <td>học sinh trường thpt bùi thị xuân q tphcm vui ...</td>\n",
       "      <td>Giáo dục</td>\n",
       "    </tr>\n",
       "    <tr>\n",
       "      <th>1828</th>\n",
       "      <td>chiều ngô văn cương bí thư tư đoàn đoàn công t...</td>\n",
       "      <td>Giới trẻ</td>\n",
       "    </tr>\n",
       "    <tr>\n",
       "      <th>12214</th>\n",
       "      <td>vai gái thành thị thăm quê kha ly hào hứng dịp...</td>\n",
       "      <td>Giải trí</td>\n",
       "    </tr>\n",
       "    <tr>\n",
       "      <th>7267</th>\n",
       "      <td>công an tpvũng tàu rịavũng tàu phối hợp viện k...</td>\n",
       "      <td>Thời sự</td>\n",
       "    </tr>\n",
       "    <tr>\n",
       "      <th>6965</th>\n",
       "      <td>ấn phẩm đằng mặt báo hồi ký chân dung báo chí ...</td>\n",
       "      <td>Văn hóa</td>\n",
       "    </tr>\n",
       "    <tr>\n",
       "      <th>9507</th>\n",
       "      <td>pv thanh niên cơ quan csđt công an tphcm hoàn ...</td>\n",
       "      <td>Thời sự</td>\n",
       "    </tr>\n",
       "    <tr>\n",
       "      <th>7129</th>\n",
       "      <td>hồ tấn minh chánh văn phòng sở gdđt tphcm thôn...</td>\n",
       "      <td>Giáo dục</td>\n",
       "    </tr>\n",
       "    <tr>\n",
       "      <th>3530</th>\n",
       "      <td>tọa đàm tham gia chuyên gia công ty vi mạch bá...</td>\n",
       "      <td>Giáo dục</td>\n",
       "    </tr>\n",
       "    <tr>\n",
       "      <th>10533</th>\n",
       "      <td>ngập tuyến đường họp báo vũ văn điệp giám đốc ...</td>\n",
       "      <td>Kinh tế</td>\n",
       "    </tr>\n",
       "  </tbody>\n",
       "</table>\n",
       "</div>"
      ],
      "text/plain": [
       "                                                 content     label\n",
       "8852   cơ phó anju khatiwada chụp màn hình the nation...  Thế giới\n",
       "882    học sinh trường thpt bùi thị xuân q tphcm vui ...  Giáo dục\n",
       "1828   chiều ngô văn cương bí thư tư đoàn đoàn công t...  Giới trẻ\n",
       "12214  vai gái thành thị thăm quê kha ly hào hứng dịp...  Giải trí\n",
       "7267   công an tpvũng tàu rịavũng tàu phối hợp viện k...   Thời sự\n",
       "6965   ấn phẩm đằng mặt báo hồi ký chân dung báo chí ...   Văn hóa\n",
       "9507   pv thanh niên cơ quan csđt công an tphcm hoàn ...   Thời sự\n",
       "7129   hồ tấn minh chánh văn phòng sở gdđt tphcm thôn...  Giáo dục\n",
       "3530   tọa đàm tham gia chuyên gia công ty vi mạch bá...  Giáo dục\n",
       "10533  ngập tuyến đường họp báo vũ văn điệp giám đốc ...   Kinh tế"
      ]
     },
     "execution_count": 150,
     "metadata": {},
     "output_type": "execute_result"
    }
   ],
   "source": [
    "#Chuyển dữ liệu đã xử lý thành dataframe\n",
    "data_preprocessed = pd.DataFrame({'content': content, 'label': label})\n",
    "data_preprocessed.sample(10)"
   ]
  },
  {
   "cell_type": "code",
   "execution_count": 151,
   "metadata": {},
   "outputs": [],
   "source": [
    "#Lưu dữ liệu đã xử lý thành file csv\n",
    "data_preprocessed.to_csv('data_ok.csv', index=False)"
   ]
  },
  {
   "cell_type": "markdown",
   "metadata": {},
   "source": [
    "# Chuẩn bị dữ liệu cho trích chọn đặc trưng"
   ]
  },
  {
   "cell_type": "code",
   "execution_count": 6,
   "metadata": {},
   "outputs": [
    {
     "data": {
      "text/html": [
       "<div>\n",
       "<style scoped>\n",
       "    .dataframe tbody tr th:only-of-type {\n",
       "        vertical-align: middle;\n",
       "    }\n",
       "\n",
       "    .dataframe tbody tr th {\n",
       "        vertical-align: top;\n",
       "    }\n",
       "\n",
       "    .dataframe thead th {\n",
       "        text-align: right;\n",
       "    }\n",
       "</style>\n",
       "<table border=\"1\" class=\"dataframe\">\n",
       "  <thead>\n",
       "    <tr style=\"text-align: right;\">\n",
       "      <th></th>\n",
       "      <th>content</th>\n",
       "      <th>label</th>\n",
       "    </tr>\n",
       "  </thead>\n",
       "  <tbody>\n",
       "    <tr>\n",
       "      <th>12836</th>\n",
       "      <td>sở du lịch hiệp hội du lịch tphcm tổ chức họp ...</td>\n",
       "      <td>Du lịch</td>\n",
       "    </tr>\n",
       "    <tr>\n",
       "      <th>2381</th>\n",
       "      <td>techspot thị trường công nghệ chứng kiến xếp h...</td>\n",
       "      <td>Công nghệ</td>\n",
       "    </tr>\n",
       "    <tr>\n",
       "      <th>9766</th>\n",
       "      <td>làm việc bộ trưởng tô lâm hành vi gây rối đốt ...</td>\n",
       "      <td>Thời sự</td>\n",
       "    </tr>\n",
       "    <tr>\n",
       "      <th>2138</th>\n",
       "      <td>thất bại ra mắt hlv arne slot tung đội hình xu...</td>\n",
       "      <td>Thể thao</td>\n",
       "    </tr>\n",
       "    <tr>\n",
       "      <th>7343</th>\n",
       "      <td>chuyên gia dự báo james bond no time to die f ...</td>\n",
       "      <td>Văn hóa</td>\n",
       "    </tr>\n",
       "    <tr>\n",
       "      <th>11247</th>\n",
       "      <td>trao đổi thanh niên ngày trước thông tin metro...</td>\n",
       "      <td>Kinh tế</td>\n",
       "    </tr>\n",
       "    <tr>\n",
       "      <th>2887</th>\n",
       "      <td>kéo dài quyền lợi người dân treo cơ quan thẩm ...</td>\n",
       "      <td>Kinh tế</td>\n",
       "    </tr>\n",
       "    <tr>\n",
       "      <th>11171</th>\n",
       "      <td>tết nguyên đán tết sài gòn ảnh hưởng nặng nề d...</td>\n",
       "      <td>Đời sống</td>\n",
       "    </tr>\n",
       "    <tr>\n",
       "      <th>5404</th>\n",
       "      <td>truyền thông địa phương tiết lộ danh tính đàn ...</td>\n",
       "      <td>Sức khỏe</td>\n",
       "    </tr>\n",
       "    <tr>\n",
       "      <th>11029</th>\n",
       "      <td>báo cáo điện lực kiểm tra điện khách hàng điện...</td>\n",
       "      <td>Kinh tế</td>\n",
       "    </tr>\n",
       "  </tbody>\n",
       "</table>\n",
       "</div>"
      ],
      "text/plain": [
       "                                                 content      label\n",
       "12836  sở du lịch hiệp hội du lịch tphcm tổ chức họp ...    Du lịch\n",
       "2381   techspot thị trường công nghệ chứng kiến xếp h...  Công nghệ\n",
       "9766   làm việc bộ trưởng tô lâm hành vi gây rối đốt ...    Thời sự\n",
       "2138   thất bại ra mắt hlv arne slot tung đội hình xu...   Thể thao\n",
       "7343   chuyên gia dự báo james bond no time to die f ...    Văn hóa\n",
       "11247  trao đổi thanh niên ngày trước thông tin metro...    Kinh tế\n",
       "2887   kéo dài quyền lợi người dân treo cơ quan thẩm ...    Kinh tế\n",
       "11171  tết nguyên đán tết sài gòn ảnh hưởng nặng nề d...   Đời sống\n",
       "5404   truyền thông địa phương tiết lộ danh tính đàn ...   Sức khỏe\n",
       "11029  báo cáo điện lực kiểm tra điện khách hàng điện...    Kinh tế"
      ]
     },
     "execution_count": 6,
     "metadata": {},
     "output_type": "execute_result"
    }
   ],
   "source": [
    "#Đọc dữ liệu đã xử lý\n",
    "data_finish = pd.read_csv('data_ok.csv')\n",
    "data_finish.sample(10)"
   ]
  },
  {
   "cell_type": "code",
   "execution_count": 7,
   "metadata": {},
   "outputs": [
    {
     "name": "stdout",
     "output_type": "stream",
     "text": [
      "<class 'pandas.core.frame.DataFrame'>\n",
      "RangeIndex: 12844 entries, 0 to 12843\n",
      "Data columns (total 2 columns):\n",
      " #   Column   Non-Null Count  Dtype \n",
      "---  ------   --------------  ----- \n",
      " 0   content  12844 non-null  object\n",
      " 1   label    12844 non-null  object\n",
      "dtypes: object(2)\n",
      "memory usage: 200.8+ KB\n"
     ]
    }
   ],
   "source": [
    "data_finish.info()"
   ]
  },
  {
   "cell_type": "code",
   "execution_count": 8,
   "metadata": {},
   "outputs": [
    {
     "name": "stdout",
     "output_type": "stream",
     "text": [
      "Kích thước tập huấn luyện: 10275\n",
      "Kích thước tập kiểm tra: 2569\n"
     ]
    }
   ],
   "source": [
    "#Tách dữ liệu thành tập train và test\n",
    "from sklearn.model_selection import train_test_split\n",
    "#Tách dữ liệu thành tập train và test (tỷ lệ 80-20)\n",
    "X_train, X_test, y_train, y_test = train_test_split(data_finish['content'], \n",
    "                                                    data_finish['label'],\n",
    "                                                    test_size=0.2, \n",
    "                                                    random_state=42)\n",
    "# Kiểm tra kích thước của mỗi tập\n",
    "print(\"Kích thước tập huấn luyện:\", len(X_train))\n",
    "print(\"Kích thước tập kiểm tra:\", len(X_test))"
   ]
  },
  {
   "cell_type": "markdown",
   "metadata": {},
   "source": [
    "# Tính đặc trưng theo TF-IDF"
   ]
  },
  {
   "cell_type": "code",
   "execution_count": 9,
   "metadata": {},
   "outputs": [],
   "source": [
    "from sklearn.feature_extraction.text import TfidfVectorizer\n",
    "#Chuyển dổi dữ liệu văn bản thành dạng vector bằng TF-IDF\n",
    "vector = TfidfVectorizer(analyzer = 'word', max_features=15000)\n",
    "X_train_tfidf = vector.fit_transform(X_train)\n",
    "X_test_tfidf = vector.transform(X_test)"
   ]
  },
  {
   "cell_type": "code",
   "execution_count": 10,
   "metadata": {},
   "outputs": [
    {
     "name": "stdout",
     "output_type": "stream",
     "text": [
      "Tập huấn luyện: (10275, 15000)\n",
      "Tập kiểm tra: (2569, 15000)\n"
     ]
    }
   ],
   "source": [
    "print(\"Tập huấn luyện:\", X_train_tfidf.shape)\n",
    "print(\"Tập kiểm tra:\", X_test_tfidf.shape)"
   ]
  },
  {
   "cell_type": "code",
   "execution_count": 11,
   "metadata": {},
   "outputs": [],
   "source": [
    "from sklearn import preprocessing\n",
    "# Mã hóa nhãn mục tiêu\n",
    "encoder = preprocessing.LabelEncoder()\n",
    "y_train = encoder.fit_transform(y_train)\n",
    "y_test = encoder.transform(y_test)"
   ]
  },
  {
   "cell_type": "code",
   "execution_count": 12,
   "metadata": {},
   "outputs": [
    {
     "name": "stdout",
     "output_type": "stream",
     "text": [
      "Nhãn ban đầu: Công nghệ - Nhãn đã mã hóa: 0\n",
      "Nhãn ban đầu: Du lịch - Nhãn đã mã hóa: 1\n",
      "Nhãn ban đầu: Giáo dục - Nhãn đã mã hóa: 2\n",
      "Nhãn ban đầu: Giải trí - Nhãn đã mã hóa: 3\n",
      "Nhãn ban đầu: Giới trẻ - Nhãn đã mã hóa: 4\n",
      "Nhãn ban đầu: Kinh tế - Nhãn đã mã hóa: 5\n",
      "Nhãn ban đầu: Sức khỏe - Nhãn đã mã hóa: 6\n",
      "Nhãn ban đầu: Thế giới - Nhãn đã mã hóa: 7\n",
      "Nhãn ban đầu: Thể thao - Nhãn đã mã hóa: 8\n",
      "Nhãn ban đầu: Thời sự - Nhãn đã mã hóa: 9\n",
      "Nhãn ban đầu: Văn hóa - Nhãn đã mã hóa: 10\n",
      "Nhãn ban đầu: Xe - Nhãn đã mã hóa: 11\n",
      "Nhãn ban đầu: Đời sống - Nhãn đã mã hóa: 12\n"
     ]
    }
   ],
   "source": [
    "#Nhãn ban đầu\n",
    "bandau = encoder.classes_\n",
    "dachuyen = encoder.transform(encoder.classes_)\n",
    "# In nhãn gốc và nhãn đã mã hóa tương ứng\n",
    "for bd, dc in zip(bandau, dachuyen):\n",
    "    print(f\"Nhãn ban đầu: {bd} - Nhãn đã mã hóa: {dc}\")"
   ]
  },
  {
   "cell_type": "markdown",
   "metadata": {},
   "source": [
    "# Huấn luyện mô hình với Naive Bayes"
   ]
  },
  {
   "cell_type": "code",
   "execution_count": 13,
   "metadata": {},
   "outputs": [],
   "source": [
    "from sklearn import naive_bayes\n",
    "\n",
    "# Khởi tạo mô hình MultinomialNB\n",
    "model = naive_bayes.MultinomialNB()"
   ]
  },
  {
   "cell_type": "markdown",
   "metadata": {},
   "source": [
    "### Dùng GridSearchCV tìm kiếm tham số alpha phù hợp nhất cho tập dữ liệu"
   ]
  },
  {
   "cell_type": "code",
   "execution_count": 14,
   "metadata": {},
   "outputs": [
    {
     "name": "stdout",
     "output_type": "stream",
     "text": [
      "Độ chính xác của mô hình tốt nhất:  81.47 %\n",
      "Thông số tối ưu: {'alpha': 0.1}\n"
     ]
    }
   ],
   "source": [
    "from sklearn.model_selection import GridSearchCV\n",
    "\n",
    "# Định nghĩa các tham số cần tìm kiếm trong GridSearchCV\n",
    "param_grid = {\n",
    "    'alpha': [0.1, 0.2, 0.4, 0.5, 0.7, 1.0]  # thử nghiệm các giá trị khác nhau của alpha\n",
    "}\n",
    "\n",
    "# Khởi tạo GridSearchCV\n",
    "grid_search = GridSearchCV(estimator=model, param_grid=param_grid, scoring='accuracy', cv=5)\n",
    "\n",
    "# Huấn luyện GridSearchCV trên tập huấn luyện\n",
    "grid_search.fit(X_train_tfidf, y_train)\n",
    "\n",
    "# Lấy mô hình tốt nhất từ GridSearchCV\n",
    "best_model = grid_search.best_estimator_\n",
    "\n",
    "# Đánh giá độ chính xác của mô hình trên tập kiểm tra\n",
    "acc_best_model = round(best_model.score(X_test_tfidf, y_test) * 100, 2)\n",
    "\n",
    "print('Độ chính xác của mô hình tốt nhất: ', acc_best_model, '%')\n",
    "print('Thông số tối ưu:', grid_search.best_params_)\n"
   ]
  },
  {
   "cell_type": "code",
   "execution_count": 15,
   "metadata": {},
   "outputs": [
    {
     "data": {
      "text/html": [
       "<style>#sk-container-id-1 {\n",
       "  /* Definition of color scheme common for light and dark mode */\n",
       "  --sklearn-color-text: black;\n",
       "  --sklearn-color-line: gray;\n",
       "  /* Definition of color scheme for unfitted estimators */\n",
       "  --sklearn-color-unfitted-level-0: #fff5e6;\n",
       "  --sklearn-color-unfitted-level-1: #f6e4d2;\n",
       "  --sklearn-color-unfitted-level-2: #ffe0b3;\n",
       "  --sklearn-color-unfitted-level-3: chocolate;\n",
       "  /* Definition of color scheme for fitted estimators */\n",
       "  --sklearn-color-fitted-level-0: #f0f8ff;\n",
       "  --sklearn-color-fitted-level-1: #d4ebff;\n",
       "  --sklearn-color-fitted-level-2: #b3dbfd;\n",
       "  --sklearn-color-fitted-level-3: cornflowerblue;\n",
       "\n",
       "  /* Specific color for light theme */\n",
       "  --sklearn-color-text-on-default-background: var(--sg-text-color, var(--theme-code-foreground, var(--jp-content-font-color1, black)));\n",
       "  --sklearn-color-background: var(--sg-background-color, var(--theme-background, var(--jp-layout-color0, white)));\n",
       "  --sklearn-color-border-box: var(--sg-text-color, var(--theme-code-foreground, var(--jp-content-font-color1, black)));\n",
       "  --sklearn-color-icon: #696969;\n",
       "\n",
       "  @media (prefers-color-scheme: dark) {\n",
       "    /* Redefinition of color scheme for dark theme */\n",
       "    --sklearn-color-text-on-default-background: var(--sg-text-color, var(--theme-code-foreground, var(--jp-content-font-color1, white)));\n",
       "    --sklearn-color-background: var(--sg-background-color, var(--theme-background, var(--jp-layout-color0, #111)));\n",
       "    --sklearn-color-border-box: var(--sg-text-color, var(--theme-code-foreground, var(--jp-content-font-color1, white)));\n",
       "    --sklearn-color-icon: #878787;\n",
       "  }\n",
       "}\n",
       "\n",
       "#sk-container-id-1 {\n",
       "  color: var(--sklearn-color-text);\n",
       "}\n",
       "\n",
       "#sk-container-id-1 pre {\n",
       "  padding: 0;\n",
       "}\n",
       "\n",
       "#sk-container-id-1 input.sk-hidden--visually {\n",
       "  border: 0;\n",
       "  clip: rect(1px 1px 1px 1px);\n",
       "  clip: rect(1px, 1px, 1px, 1px);\n",
       "  height: 1px;\n",
       "  margin: -1px;\n",
       "  overflow: hidden;\n",
       "  padding: 0;\n",
       "  position: absolute;\n",
       "  width: 1px;\n",
       "}\n",
       "\n",
       "#sk-container-id-1 div.sk-dashed-wrapped {\n",
       "  border: 1px dashed var(--sklearn-color-line);\n",
       "  margin: 0 0.4em 0.5em 0.4em;\n",
       "  box-sizing: border-box;\n",
       "  padding-bottom: 0.4em;\n",
       "  background-color: var(--sklearn-color-background);\n",
       "}\n",
       "\n",
       "#sk-container-id-1 div.sk-container {\n",
       "  /* jupyter's `normalize.less` sets `[hidden] { display: none; }`\n",
       "     but bootstrap.min.css set `[hidden] { display: none !important; }`\n",
       "     so we also need the `!important` here to be able to override the\n",
       "     default hidden behavior on the sphinx rendered scikit-learn.org.\n",
       "     See: https://github.com/scikit-learn/scikit-learn/issues/21755 */\n",
       "  display: inline-block !important;\n",
       "  position: relative;\n",
       "}\n",
       "\n",
       "#sk-container-id-1 div.sk-text-repr-fallback {\n",
       "  display: none;\n",
       "}\n",
       "\n",
       "div.sk-parallel-item,\n",
       "div.sk-serial,\n",
       "div.sk-item {\n",
       "  /* draw centered vertical line to link estimators */\n",
       "  background-image: linear-gradient(var(--sklearn-color-text-on-default-background), var(--sklearn-color-text-on-default-background));\n",
       "  background-size: 2px 100%;\n",
       "  background-repeat: no-repeat;\n",
       "  background-position: center center;\n",
       "}\n",
       "\n",
       "/* Parallel-specific style estimator block */\n",
       "\n",
       "#sk-container-id-1 div.sk-parallel-item::after {\n",
       "  content: \"\";\n",
       "  width: 100%;\n",
       "  border-bottom: 2px solid var(--sklearn-color-text-on-default-background);\n",
       "  flex-grow: 1;\n",
       "}\n",
       "\n",
       "#sk-container-id-1 div.sk-parallel {\n",
       "  display: flex;\n",
       "  align-items: stretch;\n",
       "  justify-content: center;\n",
       "  background-color: var(--sklearn-color-background);\n",
       "  position: relative;\n",
       "}\n",
       "\n",
       "#sk-container-id-1 div.sk-parallel-item {\n",
       "  display: flex;\n",
       "  flex-direction: column;\n",
       "}\n",
       "\n",
       "#sk-container-id-1 div.sk-parallel-item:first-child::after {\n",
       "  align-self: flex-end;\n",
       "  width: 50%;\n",
       "}\n",
       "\n",
       "#sk-container-id-1 div.sk-parallel-item:last-child::after {\n",
       "  align-self: flex-start;\n",
       "  width: 50%;\n",
       "}\n",
       "\n",
       "#sk-container-id-1 div.sk-parallel-item:only-child::after {\n",
       "  width: 0;\n",
       "}\n",
       "\n",
       "/* Serial-specific style estimator block */\n",
       "\n",
       "#sk-container-id-1 div.sk-serial {\n",
       "  display: flex;\n",
       "  flex-direction: column;\n",
       "  align-items: center;\n",
       "  background-color: var(--sklearn-color-background);\n",
       "  padding-right: 1em;\n",
       "  padding-left: 1em;\n",
       "}\n",
       "\n",
       "\n",
       "/* Toggleable style: style used for estimator/Pipeline/ColumnTransformer box that is\n",
       "clickable and can be expanded/collapsed.\n",
       "- Pipeline and ColumnTransformer use this feature and define the default style\n",
       "- Estimators will overwrite some part of the style using the `sk-estimator` class\n",
       "*/\n",
       "\n",
       "/* Pipeline and ColumnTransformer style (default) */\n",
       "\n",
       "#sk-container-id-1 div.sk-toggleable {\n",
       "  /* Default theme specific background. It is overwritten whether we have a\n",
       "  specific estimator or a Pipeline/ColumnTransformer */\n",
       "  background-color: var(--sklearn-color-background);\n",
       "}\n",
       "\n",
       "/* Toggleable label */\n",
       "#sk-container-id-1 label.sk-toggleable__label {\n",
       "  cursor: pointer;\n",
       "  display: block;\n",
       "  width: 100%;\n",
       "  margin-bottom: 0;\n",
       "  padding: 0.5em;\n",
       "  box-sizing: border-box;\n",
       "  text-align: center;\n",
       "}\n",
       "\n",
       "#sk-container-id-1 label.sk-toggleable__label-arrow:before {\n",
       "  /* Arrow on the left of the label */\n",
       "  content: \"▸\";\n",
       "  float: left;\n",
       "  margin-right: 0.25em;\n",
       "  color: var(--sklearn-color-icon);\n",
       "}\n",
       "\n",
       "#sk-container-id-1 label.sk-toggleable__label-arrow:hover:before {\n",
       "  color: var(--sklearn-color-text);\n",
       "}\n",
       "\n",
       "/* Toggleable content - dropdown */\n",
       "\n",
       "#sk-container-id-1 div.sk-toggleable__content {\n",
       "  max-height: 0;\n",
       "  max-width: 0;\n",
       "  overflow: hidden;\n",
       "  text-align: left;\n",
       "  /* unfitted */\n",
       "  background-color: var(--sklearn-color-unfitted-level-0);\n",
       "}\n",
       "\n",
       "#sk-container-id-1 div.sk-toggleable__content.fitted {\n",
       "  /* fitted */\n",
       "  background-color: var(--sklearn-color-fitted-level-0);\n",
       "}\n",
       "\n",
       "#sk-container-id-1 div.sk-toggleable__content pre {\n",
       "  margin: 0.2em;\n",
       "  border-radius: 0.25em;\n",
       "  color: var(--sklearn-color-text);\n",
       "  /* unfitted */\n",
       "  background-color: var(--sklearn-color-unfitted-level-0);\n",
       "}\n",
       "\n",
       "#sk-container-id-1 div.sk-toggleable__content.fitted pre {\n",
       "  /* unfitted */\n",
       "  background-color: var(--sklearn-color-fitted-level-0);\n",
       "}\n",
       "\n",
       "#sk-container-id-1 input.sk-toggleable__control:checked~div.sk-toggleable__content {\n",
       "  /* Expand drop-down */\n",
       "  max-height: 200px;\n",
       "  max-width: 100%;\n",
       "  overflow: auto;\n",
       "}\n",
       "\n",
       "#sk-container-id-1 input.sk-toggleable__control:checked~label.sk-toggleable__label-arrow:before {\n",
       "  content: \"▾\";\n",
       "}\n",
       "\n",
       "/* Pipeline/ColumnTransformer-specific style */\n",
       "\n",
       "#sk-container-id-1 div.sk-label input.sk-toggleable__control:checked~label.sk-toggleable__label {\n",
       "  color: var(--sklearn-color-text);\n",
       "  background-color: var(--sklearn-color-unfitted-level-2);\n",
       "}\n",
       "\n",
       "#sk-container-id-1 div.sk-label.fitted input.sk-toggleable__control:checked~label.sk-toggleable__label {\n",
       "  background-color: var(--sklearn-color-fitted-level-2);\n",
       "}\n",
       "\n",
       "/* Estimator-specific style */\n",
       "\n",
       "/* Colorize estimator box */\n",
       "#sk-container-id-1 div.sk-estimator input.sk-toggleable__control:checked~label.sk-toggleable__label {\n",
       "  /* unfitted */\n",
       "  background-color: var(--sklearn-color-unfitted-level-2);\n",
       "}\n",
       "\n",
       "#sk-container-id-1 div.sk-estimator.fitted input.sk-toggleable__control:checked~label.sk-toggleable__label {\n",
       "  /* fitted */\n",
       "  background-color: var(--sklearn-color-fitted-level-2);\n",
       "}\n",
       "\n",
       "#sk-container-id-1 div.sk-label label.sk-toggleable__label,\n",
       "#sk-container-id-1 div.sk-label label {\n",
       "  /* The background is the default theme color */\n",
       "  color: var(--sklearn-color-text-on-default-background);\n",
       "}\n",
       "\n",
       "/* On hover, darken the color of the background */\n",
       "#sk-container-id-1 div.sk-label:hover label.sk-toggleable__label {\n",
       "  color: var(--sklearn-color-text);\n",
       "  background-color: var(--sklearn-color-unfitted-level-2);\n",
       "}\n",
       "\n",
       "/* Label box, darken color on hover, fitted */\n",
       "#sk-container-id-1 div.sk-label.fitted:hover label.sk-toggleable__label.fitted {\n",
       "  color: var(--sklearn-color-text);\n",
       "  background-color: var(--sklearn-color-fitted-level-2);\n",
       "}\n",
       "\n",
       "/* Estimator label */\n",
       "\n",
       "#sk-container-id-1 div.sk-label label {\n",
       "  font-family: monospace;\n",
       "  font-weight: bold;\n",
       "  display: inline-block;\n",
       "  line-height: 1.2em;\n",
       "}\n",
       "\n",
       "#sk-container-id-1 div.sk-label-container {\n",
       "  text-align: center;\n",
       "}\n",
       "\n",
       "/* Estimator-specific */\n",
       "#sk-container-id-1 div.sk-estimator {\n",
       "  font-family: monospace;\n",
       "  border: 1px dotted var(--sklearn-color-border-box);\n",
       "  border-radius: 0.25em;\n",
       "  box-sizing: border-box;\n",
       "  margin-bottom: 0.5em;\n",
       "  /* unfitted */\n",
       "  background-color: var(--sklearn-color-unfitted-level-0);\n",
       "}\n",
       "\n",
       "#sk-container-id-1 div.sk-estimator.fitted {\n",
       "  /* fitted */\n",
       "  background-color: var(--sklearn-color-fitted-level-0);\n",
       "}\n",
       "\n",
       "/* on hover */\n",
       "#sk-container-id-1 div.sk-estimator:hover {\n",
       "  /* unfitted */\n",
       "  background-color: var(--sklearn-color-unfitted-level-2);\n",
       "}\n",
       "\n",
       "#sk-container-id-1 div.sk-estimator.fitted:hover {\n",
       "  /* fitted */\n",
       "  background-color: var(--sklearn-color-fitted-level-2);\n",
       "}\n",
       "\n",
       "/* Specification for estimator info (e.g. \"i\" and \"?\") */\n",
       "\n",
       "/* Common style for \"i\" and \"?\" */\n",
       "\n",
       ".sk-estimator-doc-link,\n",
       "a:link.sk-estimator-doc-link,\n",
       "a:visited.sk-estimator-doc-link {\n",
       "  float: right;\n",
       "  font-size: smaller;\n",
       "  line-height: 1em;\n",
       "  font-family: monospace;\n",
       "  background-color: var(--sklearn-color-background);\n",
       "  border-radius: 1em;\n",
       "  height: 1em;\n",
       "  width: 1em;\n",
       "  text-decoration: none !important;\n",
       "  margin-left: 1ex;\n",
       "  /* unfitted */\n",
       "  border: var(--sklearn-color-unfitted-level-1) 1pt solid;\n",
       "  color: var(--sklearn-color-unfitted-level-1);\n",
       "}\n",
       "\n",
       ".sk-estimator-doc-link.fitted,\n",
       "a:link.sk-estimator-doc-link.fitted,\n",
       "a:visited.sk-estimator-doc-link.fitted {\n",
       "  /* fitted */\n",
       "  border: var(--sklearn-color-fitted-level-1) 1pt solid;\n",
       "  color: var(--sklearn-color-fitted-level-1);\n",
       "}\n",
       "\n",
       "/* On hover */\n",
       "div.sk-estimator:hover .sk-estimator-doc-link:hover,\n",
       ".sk-estimator-doc-link:hover,\n",
       "div.sk-label-container:hover .sk-estimator-doc-link:hover,\n",
       ".sk-estimator-doc-link:hover {\n",
       "  /* unfitted */\n",
       "  background-color: var(--sklearn-color-unfitted-level-3);\n",
       "  color: var(--sklearn-color-background);\n",
       "  text-decoration: none;\n",
       "}\n",
       "\n",
       "div.sk-estimator.fitted:hover .sk-estimator-doc-link.fitted:hover,\n",
       ".sk-estimator-doc-link.fitted:hover,\n",
       "div.sk-label-container:hover .sk-estimator-doc-link.fitted:hover,\n",
       ".sk-estimator-doc-link.fitted:hover {\n",
       "  /* fitted */\n",
       "  background-color: var(--sklearn-color-fitted-level-3);\n",
       "  color: var(--sklearn-color-background);\n",
       "  text-decoration: none;\n",
       "}\n",
       "\n",
       "/* Span, style for the box shown on hovering the info icon */\n",
       ".sk-estimator-doc-link span {\n",
       "  display: none;\n",
       "  z-index: 9999;\n",
       "  position: relative;\n",
       "  font-weight: normal;\n",
       "  right: .2ex;\n",
       "  padding: .5ex;\n",
       "  margin: .5ex;\n",
       "  width: min-content;\n",
       "  min-width: 20ex;\n",
       "  max-width: 50ex;\n",
       "  color: var(--sklearn-color-text);\n",
       "  box-shadow: 2pt 2pt 4pt #999;\n",
       "  /* unfitted */\n",
       "  background: var(--sklearn-color-unfitted-level-0);\n",
       "  border: .5pt solid var(--sklearn-color-unfitted-level-3);\n",
       "}\n",
       "\n",
       ".sk-estimator-doc-link.fitted span {\n",
       "  /* fitted */\n",
       "  background: var(--sklearn-color-fitted-level-0);\n",
       "  border: var(--sklearn-color-fitted-level-3);\n",
       "}\n",
       "\n",
       ".sk-estimator-doc-link:hover span {\n",
       "  display: block;\n",
       "}\n",
       "\n",
       "/* \"?\"-specific style due to the `<a>` HTML tag */\n",
       "\n",
       "#sk-container-id-1 a.estimator_doc_link {\n",
       "  float: right;\n",
       "  font-size: 1rem;\n",
       "  line-height: 1em;\n",
       "  font-family: monospace;\n",
       "  background-color: var(--sklearn-color-background);\n",
       "  border-radius: 1rem;\n",
       "  height: 1rem;\n",
       "  width: 1rem;\n",
       "  text-decoration: none;\n",
       "  /* unfitted */\n",
       "  color: var(--sklearn-color-unfitted-level-1);\n",
       "  border: var(--sklearn-color-unfitted-level-1) 1pt solid;\n",
       "}\n",
       "\n",
       "#sk-container-id-1 a.estimator_doc_link.fitted {\n",
       "  /* fitted */\n",
       "  border: var(--sklearn-color-fitted-level-1) 1pt solid;\n",
       "  color: var(--sklearn-color-fitted-level-1);\n",
       "}\n",
       "\n",
       "/* On hover */\n",
       "#sk-container-id-1 a.estimator_doc_link:hover {\n",
       "  /* unfitted */\n",
       "  background-color: var(--sklearn-color-unfitted-level-3);\n",
       "  color: var(--sklearn-color-background);\n",
       "  text-decoration: none;\n",
       "}\n",
       "\n",
       "#sk-container-id-1 a.estimator_doc_link.fitted:hover {\n",
       "  /* fitted */\n",
       "  background-color: var(--sklearn-color-fitted-level-3);\n",
       "}\n",
       "</style><div id=\"sk-container-id-1\" class=\"sk-top-container\"><div class=\"sk-text-repr-fallback\"><pre>MultinomialNB(alpha=0.1)</pre><b>In a Jupyter environment, please rerun this cell to show the HTML representation or trust the notebook. <br />On GitHub, the HTML representation is unable to render, please try loading this page with nbviewer.org.</b></div><div class=\"sk-container\" hidden><div class=\"sk-item\"><div class=\"sk-estimator fitted sk-toggleable\"><input class=\"sk-toggleable__control sk-hidden--visually\" id=\"sk-estimator-id-1\" type=\"checkbox\" checked><label for=\"sk-estimator-id-1\" class=\"sk-toggleable__label fitted sk-toggleable__label-arrow fitted\">&nbsp;&nbsp;MultinomialNB<a class=\"sk-estimator-doc-link fitted\" rel=\"noreferrer\" target=\"_blank\" href=\"https://scikit-learn.org/1.5/modules/generated/sklearn.naive_bayes.MultinomialNB.html\">?<span>Documentation for MultinomialNB</span></a><span class=\"sk-estimator-doc-link fitted\">i<span>Fitted</span></span></label><div class=\"sk-toggleable__content fitted\"><pre>MultinomialNB(alpha=0.1)</pre></div> </div></div></div></div>"
      ],
      "text/plain": [
       "MultinomialNB(alpha=0.1)"
      ]
     },
     "execution_count": 15,
     "metadata": {},
     "output_type": "execute_result"
    }
   ],
   "source": [
    "#Khởi tạo mô hình với tham số tốt nhất\n",
    "model = naive_bayes.MultinomialNB(alpha=0.1)\n",
    "#Huấn luyện mô hình với tập huấn luyện\n",
    "model.fit(X_train_tfidf, y_train)"
   ]
  },
  {
   "cell_type": "markdown",
   "metadata": {},
   "source": [
    "# Đánh giá độ chính xác của Model trên tập train và test"
   ]
  },
  {
   "cell_type": "code",
   "execution_count": 16,
   "metadata": {},
   "outputs": [
    {
     "name": "stdout",
     "output_type": "stream",
     "text": [
      "Độ chính xác trên tập huấn luyện: 87.53\n"
     ]
    }
   ],
   "source": [
    "#Độ chính xác của Model trên tập Huấn luyện(Train)\n",
    "acc_train = model.score(X_train_tfidf,y_train)\n",
    "print('Độ chính xác trên tập huấn luyện:', round(acc_train*100,2))"
   ]
  },
  {
   "cell_type": "code",
   "execution_count": 17,
   "metadata": {},
   "outputs": [
    {
     "name": "stdout",
     "output_type": "stream",
     "text": [
      "              precision    recall  f1-score   support\n",
      "\n",
      "   Công nghệ       0.98      0.90      0.94       193\n",
      "     Du lịch       0.79      0.83      0.81       201\n",
      "    Giáo dục       0.86      0.88      0.87       203\n",
      "    Giải trí       0.79      0.96      0.87       187\n",
      "    Giới trẻ       0.64      0.59      0.61       200\n",
      "     Kinh tế       0.77      0.79      0.78       174\n",
      "    Sức khỏe       0.91      0.95      0.93       223\n",
      "    Thế giới       0.87      0.81      0.84       197\n",
      "    Thể thao       1.00      0.97      0.98       209\n",
      "     Thời sự       0.66      0.75      0.70       182\n",
      "     Văn hóa       0.77      0.60      0.67       193\n",
      "          Xe       0.99      0.97      0.98       197\n",
      "    Đời sống       0.56      0.57      0.57       210\n",
      "\n",
      "    accuracy                           0.81      2569\n",
      "   macro avg       0.81      0.81      0.81      2569\n",
      "weighted avg       0.82      0.81      0.81      2569\n",
      "\n"
     ]
    }
   ],
   "source": [
    "from sklearn import metrics\n",
    "#Dự đoán\n",
    "y_test_pred = np.around(model.predict(X_test_tfidf))\n",
    "#Đánh giá tập kiểm thử\n",
    "print(metrics.classification_report(y_test,\n",
    "                                    y_test_pred,\n",
    "                                    target_names=encoder.classes_))"
   ]
  },
  {
   "cell_type": "markdown",
   "metadata": {},
   "source": [
    "**Nhận xét**\n",
    "\n",
    " - Mô hình đạt độ chính xác 87.53% trên tập huấn luyện, cho thấy khả năng học tốt từ dữ liệu. Về độ chính xác trên tập kiểm thử, mô hình có độ chính xác là 81.47%. \n",
    "- Các lớp công nghệ, thể thao, sức khỏe, giáo dục, xe đạt hiệu suất cao với precision, recall, F1-score giao động từ 0.86 đến 1.0. \n",
    "- Các lớp du lịch, thế giới, kinh tế, giải trí, thời sự đạt mức trung bình với precision, recall, F1-score giao động từ 0.66 đến 0.87, tuy có một số nhầm lẫn nhưng không quá nghiêm trọng. \n",
    "- Các lớp giới trẻ, đời sống, văn hóa có hiệu suất khá thấp, đặc biệt là đời sống với precision, recall, F1-score lần lượt là 0.56, 0.57, 0.57. Precision bằng 0.56, nghĩa là mô hình dự đoán là ‘Đời sống’ đúng khoảng 56%, Recall bằng 0.57, nghĩa là mô hình chỉ phát hiện được khoảng 57% thực sự là ‘Đời sống’. Điểm F1-Score cho ta thấy bộ phân loại trung bình.\n",
    "- Macro avg là trung bình của các giá trị precision, recall, F1-score của tất cả các lớp. Trong trường hợp này, kết quả đều là 0.81.\n",
    "- Weighted avg có nghĩa là mỗi lớp được coi trọng dựa trên tỷ lệ số lượng mẫu của lớp đó so với tổng số lượng mẫu. Các lớp có số lượng mẫu lớn hơn sẽ có trọng số lớn hơn trong tính toán. Trong trường hợp này, kết quả lần lượt là 0.82, 0.81, 0.81. \n",
    "- Trong kết quả, Macro avg và weighted avg khá đồng đều, điều này nghĩa là sự không cân bằng trong số lượng mẫu giữa các lớp không ảnh hưởng đáng kể đến giá trị trung bình của các số liệu đánh giá hiệu suất của mô hình.\n"
   ]
  },
  {
   "cell_type": "markdown",
   "metadata": {},
   "source": [
    "### Ma trận Confusion Matrix trên tập Test"
   ]
  },
  {
   "cell_type": "code",
   "execution_count": 242,
   "metadata": {},
   "outputs": [
    {
     "data": {
      "image/png": "[encoded data removed]",
      "text/plain": [
       "<Figure size 1000x800 with 2 Axes>"
      ]
     },
     "metadata": {},
     "output_type": "display_data"
    }
   ],
   "source": [
    "#Import thư viện\n",
    "from sklearn.metrics import confusion_matrix, ConfusionMatrixDisplay\n",
    "#Tính toán ma trận:\n",
    "cnf_matrix = confusion_matrix(y_test,y_test_pred)\n",
    "#Hiển thị ma trận\n",
    "disp = ConfusionMatrixDisplay(confusion_matrix=cnf_matrix,\n",
    "                              display_labels=encoder.classes_)\n",
    "fig, ax = plt.subplots(figsize=(10, 8)) \n",
    "disp.plot(cmap=plt.cm.Blues, ax=ax) #Vẽ ma trận\n",
    "#Xoay trục x thành dọc\n",
    "ax.set_xticklabels(ax.get_xticklabels(), rotation=90)\n",
    "plt.title('Ma trận nhầm lẫn test set')\n",
    "plt.show()"
   ]
  },
  {
   "cell_type": "code",
   "execution_count": 244,
   "metadata": {},
   "outputs": [
    {
     "data": {
      "text/plain": [
       "['model_final.joblib']"
      ]
     },
     "execution_count": 244,
     "metadata": {},
     "output_type": "execute_result"
    }
   ],
   "source": [
    "#Lưu model\n",
    "import joblib\n",
    "joblib.dump((vector,model,encoder), \"model_final.joblib\")"
   ]
  }
 ],
 "metadata": {
  "kernelspec": {
   "display_name": "Python 3",
   "language": "python",
   "name": "python3"
  },
  "language_info": {
   "codemirror_mode": {
    "name": "ipython",
    "version": 3
   },
   "file_extension": ".py",
   "mimetype": "text/x-python",
   "name": "python",
   "nbconvert_exporter": "python",
   "pygments_lexer": "ipython3",
   "version": "3.11.5"
  }
 },
 "nbformat": 4,
 "nbformat_minor": 2
}
